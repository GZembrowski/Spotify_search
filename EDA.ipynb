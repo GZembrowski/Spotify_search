{
  "nbformat": 4,
  "nbformat_minor": 0,
  "metadata": {
    "colab": {
      "name": "EDA.ipynb",
      "version": "0.3.2",
      "provenance": [],
      "include_colab_link": true
    },
    "kernelspec": {
      "display_name": "Python 3",
      "language": "python",
      "name": "python3"
    }
  },
  "cells": [
    {
      "cell_type": "markdown",
      "metadata": {
        "id": "view-in-github",
        "colab_type": "text"
      },
      "source": [
        "<a href=\"https://colab.research.google.com/github/GZembrowski/Spotify_search/blob/master/EDA.ipynb\" target=\"_parent\"><img src=\"https://colab.research.google.com/assets/colab-badge.svg\" alt=\"Open In Colab\"/></a>"
      ]
    },
    {
      "metadata": {
        "id": "LmOoNePirodW",
        "colab_type": "code",
        "colab": {}
      },
      "cell_type": "code",
      "source": [
        ""
      ],
      "execution_count": 0,
      "outputs": []
    },
    {
      "metadata": {
        "id": "n9-I1EsCrod7",
        "colab_type": "code",
        "colab": {}
      },
      "cell_type": "code",
      "source": [
        "import pandas as pd\n",
        "import numpy as np\n",
        "import matplotlib.pyplot as plt\n",
        "\n",
        "\n",
        "\n"
      ],
      "execution_count": 0,
      "outputs": []
    },
    {
      "metadata": {
        "id": "elF6d1_FroeO",
        "colab_type": "code",
        "colab": {}
      },
      "cell_type": "code",
      "source": [
        "X = pd.read_csv('data_with_props.csv').iloc[:,5:]\n",
        "X = X.drop('type', axis=1)\n",
        "X_out = pd.read_csv('albums_with_props.csv').iloc[:,7:]\n",
        "X_out = X_out.drop('type', axis=1)\n"
      ],
      "execution_count": 0,
      "outputs": []
    },
    {
      "metadata": {
        "id": "39dR1hWvroeV",
        "colab_type": "code",
        "colab": {
          "base_uri": "https://localhost:8080/",
          "height": 372
        },
        "outputId": "1b0b68aa-a9c3-4be2-b9a3-3fafbfaea690"
      },
      "cell_type": "code",
      "source": [
        "plt.matshow(X.corr())"
      ],
      "execution_count": 31,
      "outputs": [
        {
          "output_type": "execute_result",
          "data": {
            "text/plain": [
              "<matplotlib.image.AxesImage at 0x7f72d0bce1d0>"
            ]
          },
          "metadata": {
            "tags": []
          },
          "execution_count": 31
        },
        {
          "output_type": "display_data",
          "data": {
            "image/png": "[encoded data removed]",
            "text/plain": [
              "<Figure size 396x396 with 1 Axes>"
            ]
          },
          "metadata": {
            "tags": []
          }
        }
      ]
    },
    {
      "metadata": {
        "id": "BABZzMsHroec",
        "colab_type": "code",
        "colab": {
          "base_uri": "https://localhost:8080/",
          "height": 596
        },
        "outputId": "8026e92c-a537-4964-eb91-e9146355a4d6"
      },
      "cell_type": "code",
      "source": [
        "corr = X.corr()\n",
        "corr"
      ],
      "execution_count": 46,
      "outputs": [
        {
          "output_type": "execute_result",
          "data": {
            "text/html": [
              "<div>\n",
              "<style scoped>\n",
              "    .dataframe tbody tr th:only-of-type {\n",
              "        vertical-align: middle;\n",
              "    }\n",
              "\n",
              "    .dataframe tbody tr th {\n",
              "        vertical-align: top;\n",
              "    }\n",
              "\n",
              "    .dataframe thead th {\n",
              "        text-align: right;\n",
              "    }\n",
              "</style>\n",
              "<table border=\"1\" class=\"dataframe\">\n",
              "  <thead>\n",
              "    <tr style=\"text-align: right;\">\n",
              "      <th></th>\n",
              "      <th>danceability</th>\n",
              "      <th>energy</th>\n",
              "      <th>key</th>\n",
              "      <th>loudness</th>\n",
              "      <th>mode</th>\n",
              "      <th>speechiness</th>\n",
              "      <th>acousticness</th>\n",
              "      <th>instrumentalness</th>\n",
              "      <th>liveness</th>\n",
              "      <th>valence</th>\n",
              "      <th>tempo</th>\n",
              "      <th>duration_ms</th>\n",
              "      <th>time_signature</th>\n",
              "      <th>bars</th>\n",
              "      <th>sections</th>\n",
              "      <th>segments</th>\n",
              "      <th>majority</th>\n",
              "    </tr>\n",
              "  </thead>\n",
              "  <tbody>\n",
              "    <tr>\n",
              "      <th>danceability</th>\n",
              "      <td>1.000000</td>\n",
              "      <td>0.044302</td>\n",
              "      <td>-0.001739</td>\n",
              "      <td>0.053556</td>\n",
              "      <td>0.032559</td>\n",
              "      <td>0.033164</td>\n",
              "      <td>0.010961</td>\n",
              "      <td>-0.207785</td>\n",
              "      <td>-0.089533</td>\n",
              "      <td>0.463530</td>\n",
              "      <td>-0.059385</td>\n",
              "      <td>-0.235799</td>\n",
              "      <td>0.132459</td>\n",
              "      <td>-0.253143</td>\n",
              "      <td>-0.201462</td>\n",
              "      <td>-0.045984</td>\n",
              "      <td>-0.015169</td>\n",
              "    </tr>\n",
              "    <tr>\n",
              "      <th>energy</th>\n",
              "      <td>0.044302</td>\n",
              "      <td>1.000000</td>\n",
              "      <td>0.027125</td>\n",
              "      <td>0.799480</td>\n",
              "      <td>-0.000063</td>\n",
              "      <td>0.220794</td>\n",
              "      <td>-0.729926</td>\n",
              "      <td>-0.027288</td>\n",
              "      <td>0.186231</td>\n",
              "      <td>0.438946</td>\n",
              "      <td>0.180717</td>\n",
              "      <td>-0.005746</td>\n",
              "      <td>0.158292</td>\n",
              "      <td>0.036760</td>\n",
              "      <td>-0.072591</td>\n",
              "      <td>0.115484</td>\n",
              "      <td>-0.000129</td>\n",
              "    </tr>\n",
              "    <tr>\n",
              "      <th>key</th>\n",
              "      <td>-0.001739</td>\n",
              "      <td>0.027125</td>\n",
              "      <td>1.000000</td>\n",
              "      <td>0.018847</td>\n",
              "      <td>-0.158149</td>\n",
              "      <td>0.037488</td>\n",
              "      <td>-0.013414</td>\n",
              "      <td>-0.018376</td>\n",
              "      <td>0.025627</td>\n",
              "      <td>0.025455</td>\n",
              "      <td>-0.002322</td>\n",
              "      <td>0.012955</td>\n",
              "      <td>-0.005017</td>\n",
              "      <td>0.007731</td>\n",
              "      <td>0.000993</td>\n",
              "      <td>0.004992</td>\n",
              "      <td>-0.082117</td>\n",
              "    </tr>\n",
              "    <tr>\n",
              "      <th>loudness</th>\n",
              "      <td>0.053556</td>\n",
              "      <td>0.799480</td>\n",
              "      <td>0.018847</td>\n",
              "      <td>1.000000</td>\n",
              "      <td>0.023002</td>\n",
              "      <td>0.071773</td>\n",
              "      <td>-0.624356</td>\n",
              "      <td>-0.177771</td>\n",
              "      <td>0.114062</td>\n",
              "      <td>0.351747</td>\n",
              "      <td>0.149806</td>\n",
              "      <td>-0.017181</td>\n",
              "      <td>0.115580</td>\n",
              "      <td>0.022661</td>\n",
              "      <td>-0.066243</td>\n",
              "      <td>0.010121</td>\n",
              "      <td>0.021737</td>\n",
              "    </tr>\n",
              "    <tr>\n",
              "      <th>mode</th>\n",
              "      <td>0.032559</td>\n",
              "      <td>-0.000063</td>\n",
              "      <td>-0.158149</td>\n",
              "      <td>0.023002</td>\n",
              "      <td>1.000000</td>\n",
              "      <td>-0.025658</td>\n",
              "      <td>0.023557</td>\n",
              "      <td>-0.019831</td>\n",
              "      <td>0.000946</td>\n",
              "      <td>0.070208</td>\n",
              "      <td>0.024686</td>\n",
              "      <td>-0.060716</td>\n",
              "      <td>0.003514</td>\n",
              "      <td>-0.050820</td>\n",
              "      <td>-0.046280</td>\n",
              "      <td>-0.065126</td>\n",
              "      <td>0.018164</td>\n",
              "    </tr>\n",
              "    <tr>\n",
              "      <th>speechiness</th>\n",
              "      <td>0.033164</td>\n",
              "      <td>0.220794</td>\n",
              "      <td>0.037488</td>\n",
              "      <td>0.071773</td>\n",
              "      <td>-0.025658</td>\n",
              "      <td>1.000000</td>\n",
              "      <td>-0.084982</td>\n",
              "      <td>-0.056459</td>\n",
              "      <td>0.149628</td>\n",
              "      <td>0.108641</td>\n",
              "      <td>0.077400</td>\n",
              "      <td>-0.080243</td>\n",
              "      <td>0.014871</td>\n",
              "      <td>-0.038123</td>\n",
              "      <td>-0.097286</td>\n",
              "      <td>-0.011166</td>\n",
              "      <td>-0.036979</td>\n",
              "    </tr>\n",
              "    <tr>\n",
              "      <th>acousticness</th>\n",
              "      <td>0.010961</td>\n",
              "      <td>-0.729926</td>\n",
              "      <td>-0.013414</td>\n",
              "      <td>-0.624356</td>\n",
              "      <td>0.023557</td>\n",
              "      <td>-0.084982</td>\n",
              "      <td>1.000000</td>\n",
              "      <td>-0.015853</td>\n",
              "      <td>-0.119261</td>\n",
              "      <td>-0.250902</td>\n",
              "      <td>-0.150191</td>\n",
              "      <td>-0.114436</td>\n",
              "      <td>-0.140246</td>\n",
              "      <td>-0.133600</td>\n",
              "      <td>-0.042710</td>\n",
              "      <td>-0.150842</td>\n",
              "      <td>-0.002442</td>\n",
              "    </tr>\n",
              "    <tr>\n",
              "      <th>instrumentalness</th>\n",
              "      <td>-0.207785</td>\n",
              "      <td>-0.027288</td>\n",
              "      <td>-0.018376</td>\n",
              "      <td>-0.177771</td>\n",
              "      <td>-0.019831</td>\n",
              "      <td>-0.056459</td>\n",
              "      <td>-0.015853</td>\n",
              "      <td>1.000000</td>\n",
              "      <td>-0.060844</td>\n",
              "      <td>-0.195005</td>\n",
              "      <td>-0.035681</td>\n",
              "      <td>0.183325</td>\n",
              "      <td>-0.008839</td>\n",
              "      <td>0.139710</td>\n",
              "      <td>0.135344</td>\n",
              "      <td>0.160037</td>\n",
              "      <td>-0.009529</td>\n",
              "    </tr>\n",
              "    <tr>\n",
              "      <th>liveness</th>\n",
              "      <td>-0.089533</td>\n",
              "      <td>0.186231</td>\n",
              "      <td>0.025627</td>\n",
              "      <td>0.114062</td>\n",
              "      <td>0.000946</td>\n",
              "      <td>0.149628</td>\n",
              "      <td>-0.119261</td>\n",
              "      <td>-0.060844</td>\n",
              "      <td>1.000000</td>\n",
              "      <td>0.047448</td>\n",
              "      <td>-0.006910</td>\n",
              "      <td>0.038861</td>\n",
              "      <td>0.014501</td>\n",
              "      <td>0.027878</td>\n",
              "      <td>-0.000128</td>\n",
              "      <td>0.047061</td>\n",
              "      <td>0.003861</td>\n",
              "    </tr>\n",
              "    <tr>\n",
              "      <th>valence</th>\n",
              "      <td>0.463530</td>\n",
              "      <td>0.438946</td>\n",
              "      <td>0.025455</td>\n",
              "      <td>0.351747</td>\n",
              "      <td>0.070208</td>\n",
              "      <td>0.108641</td>\n",
              "      <td>-0.250902</td>\n",
              "      <td>-0.195005</td>\n",
              "      <td>0.047448</td>\n",
              "      <td>1.000000</td>\n",
              "      <td>0.111039</td>\n",
              "      <td>-0.252007</td>\n",
              "      <td>0.104400</td>\n",
              "      <td>-0.187782</td>\n",
              "      <td>-0.204505</td>\n",
              "      <td>-0.069440</td>\n",
              "      <td>0.011214</td>\n",
              "    </tr>\n",
              "    <tr>\n",
              "      <th>tempo</th>\n",
              "      <td>-0.059385</td>\n",
              "      <td>0.180717</td>\n",
              "      <td>-0.002322</td>\n",
              "      <td>0.149806</td>\n",
              "      <td>0.024686</td>\n",
              "      <td>0.077400</td>\n",
              "      <td>-0.150191</td>\n",
              "      <td>-0.035681</td>\n",
              "      <td>-0.006910</td>\n",
              "      <td>0.111039</td>\n",
              "      <td>1.000000</td>\n",
              "      <td>-0.010409</td>\n",
              "      <td>-0.060295</td>\n",
              "      <td>0.454125</td>\n",
              "      <td>0.047516</td>\n",
              "      <td>0.025365</td>\n",
              "      <td>0.006695</td>\n",
              "    </tr>\n",
              "    <tr>\n",
              "      <th>duration_ms</th>\n",
              "      <td>-0.235799</td>\n",
              "      <td>-0.005746</td>\n",
              "      <td>0.012955</td>\n",
              "      <td>-0.017181</td>\n",
              "      <td>-0.060716</td>\n",
              "      <td>-0.080243</td>\n",
              "      <td>-0.114436</td>\n",
              "      <td>0.183325</td>\n",
              "      <td>0.038861</td>\n",
              "      <td>-0.252007</td>\n",
              "      <td>-0.010409</td>\n",
              "      <td>1.000000</td>\n",
              "      <td>0.002617</td>\n",
              "      <td>0.817420</td>\n",
              "      <td>0.852184</td>\n",
              "      <td>0.896931</td>\n",
              "      <td>0.007640</td>\n",
              "    </tr>\n",
              "    <tr>\n",
              "      <th>time_signature</th>\n",
              "      <td>0.132459</td>\n",
              "      <td>0.158292</td>\n",
              "      <td>-0.005017</td>\n",
              "      <td>0.115580</td>\n",
              "      <td>0.003514</td>\n",
              "      <td>0.014871</td>\n",
              "      <td>-0.140246</td>\n",
              "      <td>-0.008839</td>\n",
              "      <td>0.014501</td>\n",
              "      <td>0.104400</td>\n",
              "      <td>-0.060295</td>\n",
              "      <td>0.002617</td>\n",
              "      <td>1.000000</td>\n",
              "      <td>-0.193834</td>\n",
              "      <td>-0.007696</td>\n",
              "      <td>0.042293</td>\n",
              "      <td>0.002461</td>\n",
              "    </tr>\n",
              "    <tr>\n",
              "      <th>bars</th>\n",
              "      <td>-0.253143</td>\n",
              "      <td>0.036760</td>\n",
              "      <td>0.007731</td>\n",
              "      <td>0.022661</td>\n",
              "      <td>-0.050820</td>\n",
              "      <td>-0.038123</td>\n",
              "      <td>-0.133600</td>\n",
              "      <td>0.139710</td>\n",
              "      <td>0.027878</td>\n",
              "      <td>-0.187782</td>\n",
              "      <td>0.454125</td>\n",
              "      <td>0.817420</td>\n",
              "      <td>-0.193834</td>\n",
              "      <td>1.000000</td>\n",
              "      <td>0.729685</td>\n",
              "      <td>0.752125</td>\n",
              "      <td>0.008725</td>\n",
              "    </tr>\n",
              "    <tr>\n",
              "      <th>sections</th>\n",
              "      <td>-0.201462</td>\n",
              "      <td>-0.072591</td>\n",
              "      <td>0.000993</td>\n",
              "      <td>-0.066243</td>\n",
              "      <td>-0.046280</td>\n",
              "      <td>-0.097286</td>\n",
              "      <td>-0.042710</td>\n",
              "      <td>0.135344</td>\n",
              "      <td>-0.000128</td>\n",
              "      <td>-0.204505</td>\n",
              "      <td>0.047516</td>\n",
              "      <td>0.852184</td>\n",
              "      <td>-0.007696</td>\n",
              "      <td>0.729685</td>\n",
              "      <td>1.000000</td>\n",
              "      <td>0.772584</td>\n",
              "      <td>0.006778</td>\n",
              "    </tr>\n",
              "    <tr>\n",
              "      <th>segments</th>\n",
              "      <td>-0.045984</td>\n",
              "      <td>0.115484</td>\n",
              "      <td>0.004992</td>\n",
              "      <td>0.010121</td>\n",
              "      <td>-0.065126</td>\n",
              "      <td>-0.011166</td>\n",
              "      <td>-0.150842</td>\n",
              "      <td>0.160037</td>\n",
              "      <td>0.047061</td>\n",
              "      <td>-0.069440</td>\n",
              "      <td>0.025365</td>\n",
              "      <td>0.896931</td>\n",
              "      <td>0.042293</td>\n",
              "      <td>0.752125</td>\n",
              "      <td>0.772584</td>\n",
              "      <td>1.000000</td>\n",
              "      <td>-0.000772</td>\n",
              "    </tr>\n",
              "    <tr>\n",
              "      <th>majority</th>\n",
              "      <td>-0.015169</td>\n",
              "      <td>-0.000129</td>\n",
              "      <td>-0.082117</td>\n",
              "      <td>0.021737</td>\n",
              "      <td>0.018164</td>\n",
              "      <td>-0.036979</td>\n",
              "      <td>-0.002442</td>\n",
              "      <td>-0.009529</td>\n",
              "      <td>0.003861</td>\n",
              "      <td>0.011214</td>\n",
              "      <td>0.006695</td>\n",
              "      <td>0.007640</td>\n",
              "      <td>0.002461</td>\n",
              "      <td>0.008725</td>\n",
              "      <td>0.006778</td>\n",
              "      <td>-0.000772</td>\n",
              "      <td>1.000000</td>\n",
              "    </tr>\n",
              "  </tbody>\n",
              "</table>\n",
              "</div>"
            ],
            "text/plain": [
              "                  danceability    energy       key  loudness      mode  \\\n",
              "danceability          1.000000  0.044302 -0.001739  0.053556  0.032559   \n",
              "energy                0.044302  1.000000  0.027125  0.799480 -0.000063   \n",
              "key                  -0.001739  0.027125  1.000000  0.018847 -0.158149   \n",
              "loudness              0.053556  0.799480  0.018847  1.000000  0.023002   \n",
              "mode                  0.032559 -0.000063 -0.158149  0.023002  1.000000   \n",
              "speechiness           0.033164  0.220794  0.037488  0.071773 -0.025658   \n",
              "acousticness          0.010961 -0.729926 -0.013414 -0.624356  0.023557   \n",
              "instrumentalness     -0.207785 -0.027288 -0.018376 -0.177771 -0.019831   \n",
              "liveness             -0.089533  0.186231  0.025627  0.114062  0.000946   \n",
              "valence               0.463530  0.438946  0.025455  0.351747  0.070208   \n",
              "tempo                -0.059385  0.180717 -0.002322  0.149806  0.024686   \n",
              "duration_ms          -0.235799 -0.005746  0.012955 -0.017181 -0.060716   \n",
              "time_signature        0.132459  0.158292 -0.005017  0.115580  0.003514   \n",
              "bars                 -0.253143  0.036760  0.007731  0.022661 -0.050820   \n",
              "sections             -0.201462 -0.072591  0.000993 -0.066243 -0.046280   \n",
              "segments             -0.045984  0.115484  0.004992  0.010121 -0.065126   \n",
              "majority             -0.015169 -0.000129 -0.082117  0.021737  0.018164   \n",
              "\n",
              "                  speechiness  acousticness  instrumentalness  liveness  \\\n",
              "danceability         0.033164      0.010961         -0.207785 -0.089533   \n",
              "energy               0.220794     -0.729926         -0.027288  0.186231   \n",
              "key                  0.037488     -0.013414         -0.018376  0.025627   \n",
              "loudness             0.071773     -0.624356         -0.177771  0.114062   \n",
              "mode                -0.025658      0.023557         -0.019831  0.000946   \n",
              "speechiness          1.000000     -0.084982         -0.056459  0.149628   \n",
              "acousticness        -0.084982      1.000000         -0.015853 -0.119261   \n",
              "instrumentalness    -0.056459     -0.015853          1.000000 -0.060844   \n",
              "liveness             0.149628     -0.119261         -0.060844  1.000000   \n",
              "valence              0.108641     -0.250902         -0.195005  0.047448   \n",
              "tempo                0.077400     -0.150191         -0.035681 -0.006910   \n",
              "duration_ms         -0.080243     -0.114436          0.183325  0.038861   \n",
              "time_signature       0.014871     -0.140246         -0.008839  0.014501   \n",
              "bars                -0.038123     -0.133600          0.139710  0.027878   \n",
              "sections            -0.097286     -0.042710          0.135344 -0.000128   \n",
              "segments            -0.011166     -0.150842          0.160037  0.047061   \n",
              "majority            -0.036979     -0.002442         -0.009529  0.003861   \n",
              "\n",
              "                   valence     tempo  duration_ms  time_signature      bars  \\\n",
              "danceability      0.463530 -0.059385    -0.235799        0.132459 -0.253143   \n",
              "energy            0.438946  0.180717    -0.005746        0.158292  0.036760   \n",
              "key               0.025455 -0.002322     0.012955       -0.005017  0.007731   \n",
              "loudness          0.351747  0.149806    -0.017181        0.115580  0.022661   \n",
              "mode              0.070208  0.024686    -0.060716        0.003514 -0.050820   \n",
              "speechiness       0.108641  0.077400    -0.080243        0.014871 -0.038123   \n",
              "acousticness     -0.250902 -0.150191    -0.114436       -0.140246 -0.133600   \n",
              "instrumentalness -0.195005 -0.035681     0.183325       -0.008839  0.139710   \n",
              "liveness          0.047448 -0.006910     0.038861        0.014501  0.027878   \n",
              "valence           1.000000  0.111039    -0.252007        0.104400 -0.187782   \n",
              "tempo             0.111039  1.000000    -0.010409       -0.060295  0.454125   \n",
              "duration_ms      -0.252007 -0.010409     1.000000        0.002617  0.817420   \n",
              "time_signature    0.104400 -0.060295     0.002617        1.000000 -0.193834   \n",
              "bars             -0.187782  0.454125     0.817420       -0.193834  1.000000   \n",
              "sections         -0.204505  0.047516     0.852184       -0.007696  0.729685   \n",
              "segments         -0.069440  0.025365     0.896931        0.042293  0.752125   \n",
              "majority          0.011214  0.006695     0.007640        0.002461  0.008725   \n",
              "\n",
              "                  sections  segments  majority  \n",
              "danceability     -0.201462 -0.045984 -0.015169  \n",
              "energy           -0.072591  0.115484 -0.000129  \n",
              "key               0.000993  0.004992 -0.082117  \n",
              "loudness         -0.066243  0.010121  0.021737  \n",
              "mode             -0.046280 -0.065126  0.018164  \n",
              "speechiness      -0.097286 -0.011166 -0.036979  \n",
              "acousticness     -0.042710 -0.150842 -0.002442  \n",
              "instrumentalness  0.135344  0.160037 -0.009529  \n",
              "liveness         -0.000128  0.047061  0.003861  \n",
              "valence          -0.204505 -0.069440  0.011214  \n",
              "tempo             0.047516  0.025365  0.006695  \n",
              "duration_ms       0.852184  0.896931  0.007640  \n",
              "time_signature   -0.007696  0.042293  0.002461  \n",
              "bars              0.729685  0.752125  0.008725  \n",
              "sections          1.000000  0.772584  0.006778  \n",
              "segments          0.772584  1.000000 -0.000772  \n",
              "majority          0.006778 -0.000772  1.000000  "
            ]
          },
          "metadata": {
            "tags": []
          },
          "execution_count": 46
        }
      ]
    },
    {
      "metadata": {
        "id": "f4Mlikpiroek",
        "colab_type": "code",
        "colab": {}
      },
      "cell_type": "code",
      "source": [
        ""
      ],
      "execution_count": 0,
      "outputs": []
    },
    {
      "metadata": {
        "id": "i-SLsYtoroes",
        "colab_type": "code",
        "colab": {
          "base_uri": "https://localhost:8080/",
          "height": 5920
        },
        "outputId": "d031f3b8-cadd-4900-8e24-e5d9819bc64b"
      },
      "cell_type": "code",
      "source": [
        "Dur_columns = [0,2,4,5,7,9,11]\n",
        "def Major(x):\n",
        "    Dur_columns = [0,2,4,5,7,9,11]\n",
        "    if x in Dur_columns:\n",
        "        return(1)\n",
        "    else:\n",
        "        return(0)\n",
        "\n",
        "    \n",
        "X['majority']=X['key'].apply(Major)\n",
        "   \n",
        "columns = X.columns\n",
        "\n",
        "for col in columns:\n",
        "    print(col)\n",
        "    plt.hist(X[col], density=True, label=str(col), bins=20)\n",
        "    plt.show()"
      ],
      "execution_count": 50,
      "outputs": [
        {
          "output_type": "stream",
          "text": [
            "danceability\n"
          ],
          "name": "stdout"
        },
        {
          "output_type": "display_data",
          "data": {
            "image/png": "[encoded data removed]",
            "text/plain": [
              "<Figure size 576x396 with 1 Axes>"
            ]
          },
          "metadata": {
            "tags": []
          }
        },
        {
          "output_type": "stream",
          "text": [
            "energy\n"
          ],
          "name": "stdout"
        },
        {
          "output_type": "display_data",
          "data": {
            "image/png": "[encoded data removed]",
            "text/plain": [
              "<Figure size 576x396 with 1 Axes>"
            ]
          },
          "metadata": {
            "tags": []
          }
        },
        {
          "output_type": "stream",
          "text": [
            "key\n"
          ],
          "name": "stdout"
        },
        {
          "output_type": "display_data",
          "data": {
            "image/png": "[encoded data removed]",
            "text/plain": [
              "<Figure size 576x396 with 1 Axes>"
            ]
          },
          "metadata": {
            "tags": []
          }
        },
        {
          "output_type": "stream",
          "text": [
            "loudness\n"
          ],
          "name": "stdout"
        },
        {
          "output_type": "display_data",
          "data": {
            "image/png": "[encoded data removed]",
            "text/plain": [
              "<Figure size 576x396 with 1 Axes>"
            ]
          },
          "metadata": {
            "tags": []
          }
        },
        {
          "output_type": "stream",
          "text": [
            "mode\n"
          ],
          "name": "stdout"
        },
        {
          "output_type": "display_data",
          "data": {
            "image/png": "[encoded data removed]",
            "text/plain": [
              "<Figure size 576x396 with 1 Axes>"
            ]
          },
          "metadata": {
            "tags": []
          }
        },
        {
          "output_type": "stream",
          "text": [
            "speechiness\n"
          ],
          "name": "stdout"
        },
        {
          "output_type": "display_data",
          "data": {
            "image/png": "[encoded data removed]",
            "text/plain": [
              "<Figure size 576x396 with 1 Axes>"
            ]
          },
          "metadata": {
            "tags": []
          }
        },
        {
          "output_type": "stream",
          "text": [
            "acousticness\n"
          ],
          "name": "stdout"
        },
        {
          "output_type": "display_data",
          "data": {
            "image/png": "[encoded data removed]",
            "text/plain": [
              "<Figure size 576x396 with 1 Axes>"
            ]
          },
          "metadata": {
            "tags": []
          }
        },
        {
          "output_type": "stream",
          "text": [
            "instrumentalness\n"
          ],
          "name": "stdout"
        },
        {
          "output_type": "display_data",
          "data": {
            "image/png": "[encoded data removed]",
            "text/plain": [
              "<Figure size 576x396 with 1 Axes>"
            ]
          },
          "metadata": {
            "tags": []
          }
        },
        {
          "output_type": "stream",
          "text": [
            "liveness\n"
          ],
          "name": "stdout"
        },
        {
          "output_type": "display_data",
          "data": {
            "image/png": "[encoded data removed]",
            "text/plain": [
              "<Figure size 576x396 with 1 Axes>"
            ]
          },
          "metadata": {
            "tags": []
          }
        },
        {
          "output_type": "stream",
          "text": [
            "valence\n"
          ],
          "name": "stdout"
        },
        {
          "output_type": "display_data",
          "data": {
            "image/png": "[encoded data removed]",
            "text/plain": [
              "<Figure size 576x396 with 1 Axes>"
            ]
          },
          "metadata": {
            "tags": []
          }
        },
        {
          "output_type": "stream",
          "text": [
            "tempo\n"
          ],
          "name": "stdout"
        },
        {
          "output_type": "display_data",
          "data": {
            "image/png": "[encoded data removed]",
            "text/plain": [
              "<Figure size 576x396 with 1 Axes>"
            ]
          },
          "metadata": {
            "tags": []
          }
        },
        {
          "output_type": "stream",
          "text": [
            "duration_ms\n"
          ],
          "name": "stdout"
        },
        {
          "output_type": "display_data",
          "data": {
            "image/png": "[encoded data removed]",
            "text/plain": [
              "<Figure size 576x396 with 1 Axes>"
            ]
          },
          "metadata": {
            "tags": []
          }
        },
        {
          "output_type": "stream",
          "text": [
            "time_signature\n"
          ],
          "name": "stdout"
        },
        {
          "output_type": "display_data",
          "data": {
            "image/png": "[encoded data removed]",
            "text/plain": [
              "<Figure size 576x396 with 1 Axes>"
            ]
          },
          "metadata": {
            "tags": []
          }
        },
        {
          "output_type": "stream",
          "text": [
            "bars\n"
          ],
          "name": "stdout"
        },
        {
          "output_type": "display_data",
          "data": {
            "image/png": "[encoded data removed]",
            "text/plain": [
              "<Figure size 576x396 with 1 Axes>"
            ]
          },
          "metadata": {
            "tags": []
          }
        },
        {
          "output_type": "stream",
          "text": [
            "sections\n"
          ],
          "name": "stdout"
        },
        {
          "output_type": "display_data",
          "data": {
            "image/png": "[encoded data removed]",
            "text/plain": [
              "<Figure size 576x396 with 1 Axes>"
            ]
          },
          "metadata": {
            "tags": []
          }
        },
        {
          "output_type": "stream",
          "text": [
            "segments\n"
          ],
          "name": "stdout"
        },
        {
          "output_type": "display_data",
          "data": {
            "image/png": "[encoded data removed]",
            "text/plain": [
              "<Figure size 576x396 with 1 Axes>"
            ]
          },
          "metadata": {
            "tags": []
          }
        },
        {
          "output_type": "stream",
          "text": [
            "majority\n"
          ],
          "name": "stdout"
        },
        {
          "output_type": "display_data",
          "data": {
            "image/png": "[encoded data removed]",
            "text/plain": [
              "<Figure size 576x396 with 1 Axes>"
            ]
          },
          "metadata": {
            "tags": []
          }
        }
      ]
    },
    {
      "metadata": {
        "id": "PcAGTjFEr7qC",
        "colab_type": "code",
        "colab": {}
      },
      "cell_type": "code",
      "source": [
        ""
      ],
      "execution_count": 0,
      "outputs": []
    },
    {
      "metadata": {
        "pixiedust": {
          "displayParams": {}
        },
        "scrolled": true,
        "id": "RlRDQ9aEroe1",
        "colab_type": "code",
        "colab": {}
      },
      "cell_type": "code",
      "source": [
        ""
      ],
      "execution_count": 0,
      "outputs": []
    },
    {
      "metadata": {
        "id": "TjMlX_hFrofH",
        "colab_type": "code",
        "colab": {}
      },
      "cell_type": "code",
      "source": [
        ""
      ],
      "execution_count": 0,
      "outputs": []
    },
    {
      "metadata": {
        "id": "aLTosWMUrofP",
        "colab_type": "code",
        "colab": {}
      },
      "cell_type": "code",
      "source": [
        ""
      ],
      "execution_count": 0,
      "outputs": []
    },
    {
      "metadata": {
        "id": "5VNWSgY-rofZ",
        "colab_type": "code",
        "colab": {}
      },
      "cell_type": "code",
      "source": [
        ""
      ],
      "execution_count": 0,
      "outputs": []
    },
    {
      "metadata": {
        "id": "q2c9ZBmQrofi",
        "colab_type": "code",
        "colab": {}
      },
      "cell_type": "code",
      "source": [
        ""
      ],
      "execution_count": 0,
      "outputs": []
    },
    {
      "metadata": {
        "id": "-dpvBdnBrofp",
        "colab_type": "code",
        "colab": {}
      },
      "cell_type": "code",
      "source": [
        ""
      ],
      "execution_count": 0,
      "outputs": []
    },
    {
      "metadata": {
        "id": "-wEfrJr0rof1",
        "colab_type": "code",
        "colab": {}
      },
      "cell_type": "code",
      "source": [
        ""
      ],
      "execution_count": 0,
      "outputs": []
    },
    {
      "metadata": {
        "id": "dZOp9oSOrof_",
        "colab_type": "code",
        "colab": {}
      },
      "cell_type": "code",
      "source": [
        ""
      ],
      "execution_count": 0,
      "outputs": []
    },
    {
      "metadata": {
        "id": "wAScJSsQrogK",
        "colab_type": "code",
        "colab": {}
      },
      "cell_type": "code",
      "source": [
        ""
      ],
      "execution_count": 0,
      "outputs": []
    },
    {
      "metadata": {
        "id": "F9Az4cVorogU",
        "colab_type": "code",
        "colab": {}
      },
      "cell_type": "code",
      "source": [
        ""
      ],
      "execution_count": 0,
      "outputs": []
    },
    {
      "metadata": {
        "id": "0lmQNTI5rogd",
        "colab_type": "code",
        "colab": {}
      },
      "cell_type": "code",
      "source": [
        ""
      ],
      "execution_count": 0,
      "outputs": []
    },
    {
      "metadata": {
        "id": "Z4BEwyJ9rogk",
        "colab_type": "code",
        "colab": {}
      },
      "cell_type": "code",
      "source": [
        ""
      ],
      "execution_count": 0,
      "outputs": []
    },
    {
      "metadata": {
        "id": "3P8vGKkfrogr",
        "colab_type": "code",
        "colab": {}
      },
      "cell_type": "code",
      "source": [
        ""
      ],
      "execution_count": 0,
      "outputs": []
    },
    {
      "metadata": {
        "id": "yF0PqP3Zrogz",
        "colab_type": "code",
        "colab": {}
      },
      "cell_type": "code",
      "source": [
        ""
      ],
      "execution_count": 0,
      "outputs": []
    },
    {
      "metadata": {
        "id": "IMMTI-A6rog7",
        "colab_type": "code",
        "colab": {}
      },
      "cell_type": "code",
      "source": [
        ""
      ],
      "execution_count": 0,
      "outputs": []
    },
    {
      "metadata": {
        "id": "EF08-5iHrohB",
        "colab_type": "code",
        "colab": {}
      },
      "cell_type": "code",
      "source": [
        ""
      ],
      "execution_count": 0,
      "outputs": []
    },
    {
      "metadata": {
        "id": "im3a28ZprohJ",
        "colab_type": "code",
        "colab": {}
      },
      "cell_type": "code",
      "source": [
        ""
      ],
      "execution_count": 0,
      "outputs": []
    },
    {
      "metadata": {
        "id": "8PRJEDjErohP",
        "colab_type": "code",
        "colab": {}
      },
      "cell_type": "code",
      "source": [
        ""
      ],
      "execution_count": 0,
      "outputs": []
    }
  ]
}